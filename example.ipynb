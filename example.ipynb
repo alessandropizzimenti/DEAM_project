{
 "cells": [
  {
   "cell_type": "code",
   "execution_count": null,
   "metadata": {},
   "outputs": [],
   "source": [
    "import pandas as pd\n",
    "import numpy as np\n",
    "import matplotlib.pyplot as plt\n",
    "import seaborn as sns\n",
    "\n",
    "# Load the static annotations dataset\n",
    "# Replace 'path_to_static_annotations.csv' with the actual path to the dataset\n",
    "static_annotations = pd.read_csv('/kaggle/input/deam-mediaeval-dataset-emotional-analysis-in-music/DEAM_Annotations/annotations/annotations averaged per song/song_level/static_annotations_averaged_songs_1_2000.csv')\n",
    "dynamic_annotations_arousal = pd.read_csv('/kaggle/input/deam-mediaeval-dataset-emotional-analysis-in-music/DEAM_Annotations/annotations/annotations averaged per song/dynamic (per second annotations)/arousal.csv')\n",
    "dynamic_annotations_valence = pd.read_csv('/kaggle/input/deam-mediaeval-dataset-emotional-analysis-in-music/DEAM_Annotations/annotations/annotations averaged per song/dynamic (per second annotations)/valence.csv')\n",
    "static_annotations.columns = static_annotations.columns.str.strip()\n",
    "dynamic_annotations_arousal.columns = dynamic_annotations_arousal.columns.str.strip()\n",
    "dynamic_annotations_valence.columns = dynamic_annotations_valence.columns.str.strip()\n",
    "\n",
    "# Display the first few rows of the dataset\n",
    "print(\"Dataset Preview:\")\n",
    "print(static_annotations.head())\n",
    "\n",
    "# Basic information about the dataset\n",
    "print(\"\\nDataset Info:\")\n",
    "print(static_annotations.info())\n",
    "\n",
    "# Summary statistics\n",
    "print(\"\\nSummary Statistics:\")\n",
    "print(static_annotations.describe())"
   ]
  },
  {
   "cell_type": "code",
   "execution_count": null,
   "metadata": {},
   "outputs": [],
   "source": [
    "print(\"Columns in the dataset:\")\n",
    "print(static_annotations.columns)"
   ]
  },
  {
   "cell_type": "code",
   "execution_count": null,
   "metadata": {},
   "outputs": [],
   "source": [
    "# Check the distribution of valence_mean and arousal_mean\n",
    "plt.figure(figsize=(12, 6))\n",
    "\n",
    "# Valence_mean distribution\n",
    "plt.subplot(1, 2, 1)\n",
    "sns.histplot(static_annotations['valence_mean'], kde=True, color='green', bins=20)\n",
    "plt.title('Valence Mean Distribution')\n",
    "plt.xlabel('Valence Mean')\n",
    "plt.ylabel('Frequency')\n",
    "\n",
    "# Arousal_mean distribution\n",
    "plt.subplot(1, 2, 2)\n",
    "sns.histplot(static_annotations['arousal_mean'], kde=True, color='blue', bins=20)\n",
    "plt.title('Arousal Mean Distribution')\n",
    "plt.xlabel('Arousal Mean')\n",
    "plt.ylabel('Frequency')\n",
    "\n",
    "plt.tight_layout()\n",
    "plt.show()"
   ]
  },
  {
   "cell_type": "code",
   "execution_count": null,
   "metadata": {},
   "outputs": [],
   "source": [
    "# Scatter plot for arousal_mean vs valence_mean\n",
    "plt.figure(figsize=(8, 8))\n",
    "sns.scatterplot(x='arousal_mean', y='valence_mean', data=static_annotations, alpha=0.6, color='purple')\n",
    "plt.title('Arousal Mean vs Valence Mean')\n",
    "plt.xlabel('Arousal Mean')\n",
    "plt.ylabel('Valence Mean')\n",
    "plt.grid(True)\n",
    "plt.show()\n",
    "\n",
    "# Analyze variability (std columns)\n",
    "plt.figure(figsize=(12, 6))\n",
    "\n",
    "# Valence_std distribution\n",
    "plt.subplot(1, 2, 1)\n",
    "sns.histplot(static_annotations['valence_std'], kde=True, color='orange', bins=20)\n",
    "plt.title('Valence Standard Deviation Distribution')\n",
    "plt.xlabel('Valence Std')\n",
    "plt.ylabel('Frequency')\n",
    "\n",
    "# Arousal_std distribution\n",
    "plt.subplot(1, 2, 2)\n",
    "sns.histplot(static_annotations['arousal_std'], kde=True, color='red', bins=20)\n",
    "plt.title('Arousal Standard Deviation Distribution')\n",
    "plt.xlabel('Arousal Std')\n",
    "plt.ylabel('Frequency')\n",
    "\n",
    "plt.tight_layout()\n",
    "plt.show()\n",
    "\n",
    "plt.tight_layout()\n",
    "plt.show()"
   ]
  }
 ],
 "metadata": {
  "kernelspec": {
   "display_name": ".venv",
   "language": "python",
   "name": "python3"
  },
  "language_info": {
   "codemirror_mode": {
    "name": "ipython",
    "version": 3
   },
   "file_extension": ".py",
   "mimetype": "text/x-python",
   "name": "python",
   "nbconvert_exporter": "python",
   "pygments_lexer": "ipython3",
   "version": "3.12.8"
  }
 },
 "nbformat": 4,
 "nbformat_minor": 2
}
